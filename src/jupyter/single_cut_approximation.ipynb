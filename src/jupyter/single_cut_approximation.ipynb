{
 "cells": [
  {
   "cell_type": "markdown",
   "metadata": {},
   "source": [
    "### The goal is to approximate a 2d interpolation funciton by using 1d interpolation funcitons"
   ]
  },
  {
   "cell_type": "code",
   "execution_count": 146,
   "metadata": {},
   "outputs": [],
   "source": [
    "import sys\n",
    "sys.path.insert(0,'..')\n",
    "\n",
    "import numpy as np\n",
    "import matplotlib.pyplot as plt\n",
    "from mpl_toolkits import mplot3d\n",
    "from algorithms import create_interp_1d_funcs, create_interp_2d_funcs, sigma_f1d, sigma_f2d\n",
    "from data_utils import create_1d_data, create_2d_data\n",
    "%matplotlib notebook\n"
   ]
  },
  {
   "cell_type": "markdown",
   "metadata": {},
   "source": [
    "## Test approximate vs. 2d interpolation"
   ]
  },
  {
   "cell_type": "code",
   "execution_count": 231,
   "metadata": {},
   "outputs": [],
   "source": [
    "        def f(x):\n",
    "            return np.array([datum[0]*np.sin(datum[1]) + datum[1] + datum[2] for datum in x]).reshape(-1, 1)\n",
    "\n",
    "        # ----creating training data----\n",
    "        primary_cut_center = [0, 0, 0]\n",
    "        x_1d = create_1d_data(x_range=(-8, 8, 1), cut_center=primary_cut_center)\n",
    "        x_2d = create_2d_data(x1_range=(-8, 8, 1), x2_range=(-8, 8, 1), cut_center=primary_cut_center)\n",
    "        y_1d = f(x_1d)\n",
    "        y_2d = f(x_2d)\n",
    "\n",
    "        # ----creating the interpolation functions----\n",
    "        f0 = f(np.array([primary_cut_center]))\n",
    "        f_1d = create_interp_1d_funcs(x_1d, y_1d, primary_cut_center)\n",
    "        f_2d = create_interp_2d_funcs(x_2d, y_2d, primary_cut_center)\n",
    "\n",
    "        # ----Testing----\n",
    "        test_datum = [1.45, 2.2823, 0.2782]"
   ]
  },
  {
   "cell_type": "code",
   "execution_count": 232,
   "metadata": {},
   "outputs": [
    {
     "name": "stdout",
     "output_type": "stream",
     "text": [
      "net_part of sigma_2d for f01: [[-2.2823]]\n"
     ]
    }
   ],
   "source": [
    "# ---- the negative part of sigma2d for f01-----\n",
    "neg_part = -(f_1d[0](test_datum[0]) - f0) - (f_1d[1](test_datum[1]) - f0) - f0\n",
    "print(f'net_part of sigma_2d for f01: {neg_part}')"
   ]
  },
  {
   "cell_type": "code",
   "execution_count": 233,
   "metadata": {},
   "outputs": [
    {
     "name": "stdout",
     "output_type": "stream",
     "text": [
      "f01_interpolated: [3.37773063]\n"
     ]
    }
   ],
   "source": [
    "# ----testing the first 2d interpolated funciton --> f01----\n",
    "\n",
    "f01_interpolated = f_2d[0][0](test_datum[0], test_datum[1])\n",
    "print(f'f01_interpolated: {f01_interpolated}')"
   ]
  },
  {
   "cell_type": "code",
   "execution_count": 236,
   "metadata": {},
   "outputs": [
    {
     "name": "stdout",
     "output_type": "stream",
     "text": [
      "f01_approximated: [[3.42484694]]\n"
     ]
    }
   ],
   "source": [
    "# ----approximating f01----\n",
    "secondary_cut_center = [1, 1 ,primary_cut_center[2]] # or different cutcenter altoghether? TESTED: Z has to be the same as primary cut_center\n",
    "secondary_x_1d = create_1d_data(x_range=(-8, 8, 1), cut_center=secondary_cut_center)\n",
    "secondary_y_1d = f(secondary_x_1d)\n",
    "secondary_f_1d = create_interp_1d_funcs(secondary_x_1d, secondary_y_1d, secondary_cut_center)\n",
    "secondary_f0 = f(np.array([secondary_cut_center]))\n",
    "\n",
    "f01_approximated = secondary_f0 + (secondary_f_1d[0](test_datum[0]) - secondary_f0) + (secondary_f_1d[1](test_datum[1]) - secondary_f0) \n",
    "print(f'f01_approximated: {f01_approximated}')"
   ]
  },
  {
   "cell_type": "markdown",
   "metadata": {},
   "source": [
    "Surprizingly changing the **x and y** coordinate of the **secondary_cut_center** does **NOT** change the **f01_approximated**. This is the same as saying:\n",
    "\n",
    "$$F_{01}(x, y, \\hat{z}) = F(\\hat{x}, \\hat{y}, \\hat{z}) + [F(x, \\hat{y}, \\hat{z}) - F(\\hat{x}, \\hat{y}, \\hat{z})] +  [F(\\hat{x}, y, \\hat{z}) - F(\\hat{x}, \\hat{y}, \\hat{z})]$$ \n",
    "is the same as:\n",
    "$$F_{01}(x, y, \\hat{z}) = F(\\bar{x}, \\bar{y}, \\hat{z}) + [F(x, \\bar{y}, \\hat{z}) - F(\\bar{x}, \\bar{y}, \\hat{z})] +  [F(\\bar{x}, y, \\hat{z}) - F(\\bar{x}, \\bar{y}, \\hat{z})]$$\n",
    "\n",
    "where primary cut center: $$(\\hat{x}, \\hat{y}, \\hat{z})$$ \n",
    "and secondary cut center: $$(\\bar{x}, \\bar{y}, \\hat{z})$$\n",
    "\n",
    "**Turns out this is only the case if the x, and y variables are decouples (are linear) in the F function**"
   ]
  },
  {
   "cell_type": "code",
   "execution_count": null,
   "metadata": {},
   "outputs": [],
   "source": []
  }
 ],
 "metadata": {
  "kernelspec": {
   "display_name": "Python 3",
   "language": "python",
   "name": "python3"
  },
  "language_info": {
   "codemirror_mode": {
    "name": "ipython",
    "version": 3
   },
   "file_extension": ".py",
   "mimetype": "text/x-python",
   "name": "python",
   "nbconvert_exporter": "python",
   "pygments_lexer": "ipython3",
   "version": "3.7.2"
  }
 },
 "nbformat": 4,
 "nbformat_minor": 2
}
