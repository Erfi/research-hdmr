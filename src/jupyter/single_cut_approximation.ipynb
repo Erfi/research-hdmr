{
 "cells": [
  {
   "cell_type": "markdown",
   "metadata": {},
   "source": [
    "### The goal is to approximate a 2d interpolation funciton by using 1d interpolation funcitons"
   ]
  },
  {
   "cell_type": "code",
   "execution_count": 60,
   "metadata": {},
   "outputs": [],
   "source": [
    "import sys\n",
    "sys.path.insert(0,'..')\n",
    "from collections import namedtuple\n",
    "from typing import List\n",
    "\n",
    "import numpy as np\n",
    "import matplotlib.pyplot as plt\n",
    "from mpl_toolkits import mplot3d\n",
    "from algorithms import create_interp_1d_funcs, create_interp_2d_funcs, sigma_f1d, sigma_f2d\n",
    "from data_utils import create_1d_data, create_2d_data\n",
    "%matplotlib notebook\n"
   ]
  },
  {
   "cell_type": "markdown",
   "metadata": {},
   "source": [
    "## Test approximate vs. 2d interpolation"
   ]
  },
  {
   "cell_type": "code",
   "execution_count": 231,
   "metadata": {},
   "outputs": [],
   "source": [
    "        def f(x):\n",
    "            return np.array([datum[0]*np.sin(datum[1]) + datum[1] + datum[2] for datum in x]).reshape(-1, 1)\n",
    "\n",
    "        # ----creating training data----\n",
    "        primary_cut_center = [0, 0, 0]\n",
    "        x_1d = create_1d_data(x_range=(-8, 8, 1), cut_center=primary_cut_center)\n",
    "        x_2d = create_2d_data(x1_range=(-8, 8, 1), x2_range=(-8, 8, 1), cut_center=primary_cut_center)\n",
    "        y_1d = f(x_1d)\n",
    "        y_2d = f(x_2d)\n",
    "\n",
    "        # ----creating the interpolation functions----\n",
    "        f0 = f(np.array([primary_cut_center]))\n",
    "        f_1d = create_interp_1d_funcs(x_1d, y_1d, primary_cut_center)\n",
    "        f_2d = create_interp_2d_funcs(x_2d, y_2d, primary_cut_center)\n",
    "\n",
    "        # ----Testing----\n",
    "        test_datum = [1.45, 2.2823, 0.2782]"
   ]
  },
  {
   "cell_type": "code",
   "execution_count": 232,
   "metadata": {},
   "outputs": [
    {
     "name": "stdout",
     "output_type": "stream",
     "text": [
      "net_part of sigma_2d for f01: [[-2.2823]]\n"
     ]
    }
   ],
   "source": [
    "# ---- the negative part of sigma2d for f01-----\n",
    "neg_part = -(f_1d[0](test_datum[0]) - f0) - (f_1d[1](test_datum[1]) - f0) - f0\n",
    "print(f'net_part of sigma_2d for f01: {neg_part}')"
   ]
  },
  {
   "cell_type": "code",
   "execution_count": 233,
   "metadata": {},
   "outputs": [
    {
     "name": "stdout",
     "output_type": "stream",
     "text": [
      "f01_interpolated: [3.37773063]\n"
     ]
    }
   ],
   "source": [
    "# ----testing the first 2d interpolated funciton --> f01----\n",
    "\n",
    "f01_interpolated = f_2d[0][0](test_datum[0], test_datum[1])\n",
    "print(f'f01_interpolated: {f01_interpolated}')"
   ]
  },
  {
   "cell_type": "code",
   "execution_count": 236,
   "metadata": {},
   "outputs": [
    {
     "name": "stdout",
     "output_type": "stream",
     "text": [
      "f01_approximated: [[3.42484694]]\n"
     ]
    }
   ],
   "source": [
    "# ----approximating f01----\n",
    "secondary_cut_center = [1, 1 ,primary_cut_center[2]] # or different cutcenter altoghether? TESTED: Z has to be the same as primary cut_center\n",
    "secondary_x_1d = create_1d_data(x_range=(-8, 8, 1), cut_center=secondary_cut_center)\n",
    "secondary_y_1d = f(secondary_x_1d)\n",
    "secondary_f_1d = create_interp_1d_funcs(secondary_x_1d, secondary_y_1d, secondary_cut_center)\n",
    "secondary_f0 = f(np.array([secondary_cut_center]))\n",
    "\n",
    "f01_approximated = secondary_f0 + (secondary_f_1d[0](test_datum[0]) - secondary_f0) + (secondary_f_1d[1](test_datum[1]) - secondary_f0) \n",
    "print(f'f01_approximated: {f01_approximated}')"
   ]
  },
  {
   "cell_type": "markdown",
   "metadata": {},
   "source": [
    "Surprizingly changing the **x and y** coordinate of the **secondary_cut_center** does **NOT** change the **f01_approximated**. This is the same as saying:\n",
    "\n",
    "$$F_{01}(x, y, \\hat{z}) = F(\\hat{x}, \\hat{y}, \\hat{z}) + [F(x, \\hat{y}, \\hat{z}) - F(\\hat{x}, \\hat{y}, \\hat{z})] +  [F(\\hat{x}, y, \\hat{z}) - F(\\hat{x}, \\hat{y}, \\hat{z})]$$ \n",
    "is the same as:\n",
    "$$F_{01}(x, y, \\hat{z}) = F(\\bar{x}, \\bar{y}, \\hat{z}) + [F(x, \\bar{y}, \\hat{z}) - F(\\bar{x}, \\bar{y}, \\hat{z})] +  [F(\\bar{x}, y, \\hat{z}) - F(\\bar{x}, \\bar{y}, \\hat{z})]$$\n",
    "\n",
    "where primary cut center: $$(\\hat{x}, \\hat{y}, \\hat{z})$$ \n",
    "and secondary cut center: $$(\\bar{x}, \\bar{y}, \\hat{z})$$\n",
    "\n",
    "**Turns out this is only the case if the x, and y variables are decouples (are linear) in the F function**"
   ]
  },
  {
   "cell_type": "markdown",
   "metadata": {},
   "source": [
    "# Automation\n",
    "Now we try to automate the approximation part"
   ]
  },
  {
   "cell_type": "markdown",
   "metadata": {},
   "source": [
    "The most important task seems to be the orgonization of the data that is used to create the 1D interpolation functions.\n",
    "I am going to think of this task as follows:\n",
    "1. There are two cut centers CC1 and CC2\n",
    "2. Each CC has n dimentions\n",
    "3. We need data that lies on each of the axis of the two cut centers (imagine each cut center as origin point of a coordinate system)\n",
    "4. Hence we need 2*n set of points\n",
    "5. Then for the original 1D interpolation functions such as (e.g. n=3, CC1=$(\\hat{x},\\hat{y},\\hat{z})$ ) $f(x,\\hat{y},\\hat{z})$ we need a set of three dimensional points with their first dimension vary around $\\hat{x}$, the second dimension is set to $\\hat{y}$ and their third dimension is set to $\\hat{z}$\n",
    "6. And hence for an approximation 1D interpolation such as (e.g. n=3, CC1=$(\\hat{x},\\hat{y},\\hat{z})$ and CC2=$(\\bar{x},\\bar{y},\\bar{z})$ ) $f(x,\\bar{y},\\hat{z})$ we need a set of three dimensional data points with their first dimension vary around $\\bar{x}$, the second dimension fixed at $\\bar{y}$ and their third dimension set to $\\hat{z}$\n",
    "    - I was just now wondering if in this case the first dimention should vary around $\\hat{x}$ or $\\bar{x}$, I believe that should not matter, in fact there might be a overlap if the range is large enough and $\\hat{x}$ and $\\bar{x}$ are close to each other. Perhaps using the one that is closer to the test data ( but we should not be thinking about test points at the training time (otherwise we will overfit) so discard this thought).\n",
    "    \n",
    "**Note:**\n",
    "We have so far thought of the points without their label or value (we have only been talking about how to construct (x,y,z) by mix and matching different dimentions, but how about F(x,y,z)? \n",
    "So in practice we would need $k*(n + 2*\\binom{n}{2})$  (x,y,z) and F(x,y,z) for training (k is the number of data points in each of n dimensions per CC) and each 1D interpolation function only uses one set of k points. \n",
    "\n",
    "So how should we do this? \n",
    "- should we create all data-value pairs before hand (which is similar to real world)\n",
    "- or should we take in the (x,y,z) points and calculate their values on demand by passing the F (which is more simulation, but easier)\n",
    "\n",
    "It seems more robust to create the training data beforehand (this way we can also compare it with other standard ML algorithms). So then the question becomes how do we orgonize them in a way that we would be able to access them for training each of the 1D interpolation functions? basically we need $n + 2*\\binom{n}{2}$ bins of coordinate-value pairs which can be accessed by an n (or so) variable keys e.g: I need all point-values for a 1D interpolation function that is related to $(\\bar{x}free,\\bar{y}fixed,\\hat{z}fixed)$\n",
    "\n",
    "How can I orgonize this? Use a dictionary with key being a string made from i, j, CC1, CC2"
   ]
  },
  {
   "cell_type": "code",
   "execution_count": 29,
   "metadata": {},
   "outputs": [
    {
     "data": {
      "text/plain": [
       "'[0, 1]_1_[[0, 0, 0], [1, 2, 3]]'"
      ]
     },
     "execution_count": 29,
     "metadata": {},
     "output_type": "execute_result"
    }
   ],
   "source": [
    "def make_key(indexes, fixed_secondary_index, cut_centers):\n",
    "    \"\"\"\n",
    "    Args:\n",
    "        indexes: a python dictionary of {i,j) or (i)\n",
    "        cut_centers: a python tuple of (CC1, CC2) or (CC1)\n",
    "    \n",
    "    Returns:\n",
    "        a string key\n",
    "    \"\"\"\n",
    "    key = f'{indexes}_{fixed_secondary_index}_{cut_centers}'.strip(' ')\n",
    "    return key\n",
    "\n",
    "make_key([0,1], 1, [[0,0,0], [1,2,3]])"
   ]
  },
  {
   "cell_type": "code",
   "execution_count": 4,
   "metadata": {},
   "outputs": [],
   "source": [
    "data_set = np.array([-5,5, 0.5])\n",
    "CC1 = [0,0,0,0]\n",
    "n = len(CC1)"
   ]
  },
  {
   "cell_type": "code",
   "execution_count": 28,
   "metadata": {},
   "outputs": [
    {
     "data": {
      "text/plain": [
       "array([[ 3,  4, -6],\n",
       "       [ 3,  4, -5],\n",
       "       [ 3,  4, -4],\n",
       "       [ 3,  4, -3],\n",
       "       [ 3,  4, -2],\n",
       "       [ 3,  4, -1],\n",
       "       [ 3,  4,  0],\n",
       "       [ 3,  4,  1],\n",
       "       [ 3,  4,  2],\n",
       "       [ 3,  4,  3]])"
      ]
     },
     "execution_count": 28,
     "metadata": {},
     "output_type": "execute_result"
    }
   ],
   "source": [
    "def make_1d_data(cut_center, axis_index, data_range):\n",
    "    \"\"\"\n",
    "    Args:\n",
    "        cut_center: pyhton list\n",
    "        axis_index: which axis to vary\n",
    "        data_range: python list [start, end, step]\n",
    "    \"\"\"\n",
    "    single_axis_data = np.arange(*data_range)\n",
    "    dataset = np.repeat([cut_center], len(single_axis_data), axis=0)\n",
    "    dataset[:,axis_index] = single_axis_data + cut_center[axis_index]\n",
    "    return dataset\n",
    "    \n",
    "make_1d_data([3,4,-1], 2, [-5,5,1])"
   ]
  },
  {
   "cell_type": "code",
   "execution_count": 33,
   "metadata": {},
   "outputs": [
    {
     "data": {
      "text/plain": [
       "array([[-4,  1,  0],\n",
       "       [-3,  1,  0],\n",
       "       [-2,  1,  0],\n",
       "       [-1,  1,  0],\n",
       "       [ 0,  1,  0],\n",
       "       [ 1,  1,  0],\n",
       "       [ 2,  1,  0],\n",
       "       [ 3,  1,  0],\n",
       "       [ 4,  1,  0],\n",
       "       [ 5,  1,  0]])"
      ]
     },
     "execution_count": 33,
     "metadata": {},
     "output_type": "execute_result"
    }
   ],
   "source": [
    "def make_2d_data(primary_cut_center, secondary_cut_center, varying_axis_index, fixed_axis_index, data_range):\n",
    "    \"\"\"\n",
    "    primary_cut_center: python list\n",
    "    secondary_cut_center: python list\n",
    "    varying_axis_index: int\n",
    "    fixed_axis_index: int\n",
    "    data_range: python list [start, end, step]\n",
    "    \"\"\"\n",
    "    single_axis_data = np.arange(*data_range)\n",
    "    dataset = np.repeat([primary_cut_center], len(single_axis_data), axis=0)\n",
    "    dataset[:, fixed_axis_index] = secondary_cut_center[fixed_axis_index]\n",
    "    dataset[:, varying_axis_index] = single_axis_data + secondary_cut_center[varying_axis_index]\n",
    "    return dataset\n",
    "\n",
    "make_2d_data([0,0,0], [1,1,1], 0, 1, [-5,5,1])"
   ]
  },
  {
   "cell_type": "code",
   "execution_count": 37,
   "metadata": {},
   "outputs": [],
   "source": [
    "from collections import namedtuple\n",
    "CutIndexPair = namedtuple('CutIndexPair', ['cut_center', 'index', 'primary_flag'])\n",
    "DatasetInfo = namedtuple('DatasetInfo', ['data_range', 'cut_index_pairs'])\n",
    "\n",
    "cut_index_1 = CutIndexPair(cut_center=[0,0,0], index=0, primary_flag=True)\n",
    "cut_index_2 = CutIndexPair(cut_center=[1,1,1], index=1, primary_flag=False)\n",
    "data_range = [-5, 5, 1]\n",
    "dataset_info = DatasetInfo(data_range=data_range, cut_index_pairs=[cut_index_1, cut_index_2])"
   ]
  },
  {
   "cell_type": "code",
   "execution_count": 76,
   "metadata": {},
   "outputs": [],
   "source": [
    "DatasetInfo = namedtuple('DatasetInfo', ['data_range', 'primary_cut_center' ,'varying_index', 'secondary_cut_center', 'fixed_index'], defaults=(None,)*2)\n",
    "\n",
    "\n",
    "def make_interpolation_data(dataset_info: DatasetInfo) -> np.ndarray:\n",
    "    assert dataset_info.varying_index != dataset_info.fixed_index, 'varying index cannot be the same as the fixed index'\n",
    "    single_axis_data = np.arange(*dataset_info.data_range)\n",
    "    dataset = np.repeat([dataset_info.primary_cut_center], len(single_axis_data), axis=0)\n",
    "    if dataset_info.secondary_cut_center:\n",
    "        dataset[:, dataset_info.fixed_index] = dataset_info.secondary_cut_center[dataset_info.fixed_index]\n",
    "        dataset[:, dataset_info.varying_index] = single_axis_data + dataset_info.secondary_cut_center[dataset_info.varying_index]\n",
    "    else:\n",
    "        dataset[:, dataset_info.varying_index] = single_axis_data + dataset_info.primary_cut_center[dataset_info.varying_index]\n",
    "    return dataset"
   ]
  },
  {
   "cell_type": "code",
   "execution_count": 94,
   "metadata": {},
   "outputs": [
    {
     "data": {
      "text/plain": [
       "array([[-2.9,  1.2,  2.3],\n",
       "       [-1.9,  1.2,  2.3],\n",
       "       [-0.9,  1.2,  2.3],\n",
       "       [ 0.1,  1.2,  2.3],\n",
       "       [ 1.1,  1.2,  2.3],\n",
       "       [ 2.1,  1.2,  2.3],\n",
       "       [ 3.1,  1.2,  2.3],\n",
       "       [ 4.1,  1.2,  2.3],\n",
       "       [ 5.1,  1.2,  2.3],\n",
       "       [ 6.1,  1.2,  2.3]])"
      ]
     },
     "execution_count": 94,
     "metadata": {},
     "output_type": "execute_result"
    }
   ],
   "source": [
    "dsetinfo = DatasetInfo(data_range=[-5,5,1],\n",
    "                       primary_cut_center=[1.1, 1.2, 1.3],\n",
    "                       varying_index=0,\n",
    "                       secondary_cut_center=[2.1, 2.2, 2.3],\n",
    "                       fixed_index=2\n",
    "                      )\n",
    "\n",
    "make_interpolation_data(dsetinfo)"
   ]
  },
  {
   "cell_type": "code",
   "execution_count": null,
   "metadata": {},
   "outputs": [],
   "source": []
  }
 ],
 "metadata": {
  "kernelspec": {
   "display_name": "Python 3",
   "language": "python",
   "name": "python3"
  },
  "language_info": {
   "codemirror_mode": {
    "name": "ipython",
    "version": 3
   },
   "file_extension": ".py",
   "mimetype": "text/x-python",
   "name": "python",
   "nbconvert_exporter": "python",
   "pygments_lexer": "ipython3",
   "version": "3.7.2"
  }
 },
 "nbformat": 4,
 "nbformat_minor": 2
}
