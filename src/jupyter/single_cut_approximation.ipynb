{
 "cells": [
  {
   "cell_type": "markdown",
   "metadata": {},
   "source": [
    "### The goal is to approximate a 2d interpolation funciton by using 1d interpolation funcitons"
   ]
  },
  {
   "cell_type": "code",
   "execution_count": 146,
   "metadata": {},
   "outputs": [],
   "source": [
    "import sys\n",
    "sys.path.insert(0,'..')\n",
    "\n",
    "import numpy as np\n",
    "import matplotlib.pyplot as plt\n",
    "from mpl_toolkits import mplot3d\n",
    "from algorithms import create_interp_1d_funcs, create_interp_2d_funcs, sigma_f1d, sigma_f2d\n",
    "from data_utils import create_1d_data, create_2d_data\n",
    "%matplotlib notebook\n"
   ]
  },
  {
   "cell_type": "markdown",
   "metadata": {},
   "source": [
    "## Test approximate vs. 2d interpolation"
   ]
  },
  {
   "cell_type": "code",
   "execution_count": 231,
   "metadata": {},
   "outputs": [],
   "source": [
    "        def f(x):\n",
    "            return np.array([datum[0]*np.sin(datum[1]) + datum[1] + datum[2] for datum in x]).reshape(-1, 1)\n",
    "\n",
    "        # ----creating training data----\n",
    "        primary_cut_center = [0, 0, 0]\n",
    "        x_1d = create_1d_data(x_range=(-8, 8, 1), cut_center=primary_cut_center)\n",
    "        x_2d = create_2d_data(x1_range=(-8, 8, 1), x2_range=(-8, 8, 1), cut_center=primary_cut_center)\n",
    "        y_1d = f(x_1d)\n",
    "        y_2d = f(x_2d)\n",
    "\n",
    "        # ----creating the interpolation functions----\n",
    "        f0 = f(np.array([primary_cut_center]))\n",
    "        f_1d = create_interp_1d_funcs(x_1d, y_1d, primary_cut_center)\n",
    "        f_2d = create_interp_2d_funcs(x_2d, y_2d, primary_cut_center)\n",
    "\n",
    "        # ----Testing----\n",
    "        test_datum = [1.45, 2.2823, 0.2782]"
   ]
  },
  {
   "cell_type": "code",
   "execution_count": 232,
   "metadata": {},
   "outputs": [
    {
     "name": "stdout",
     "output_type": "stream",
     "text": [
      "net_part of sigma_2d for f01: [[-2.2823]]\n"
     ]
    }
   ],
   "source": [
    "# ---- the negative part of sigma2d for f01-----\n",
    "neg_part = -(f_1d[0](test_datum[0]) - f0) - (f_1d[1](test_datum[1]) - f0) - f0\n",
    "print(f'net_part of sigma_2d for f01: {neg_part}')"
   ]
  },
  {
   "cell_type": "code",
   "execution_count": 233,
   "metadata": {},
   "outputs": [
    {
     "name": "stdout",
     "output_type": "stream",
     "text": [
      "f01_interpolated: [3.37773063]\n"
     ]
    }
   ],
   "source": [
    "# ----testing the first 2d interpolated funciton --> f01----\n",
    "\n",
    "f01_interpolated = f_2d[0][0](test_datum[0], test_datum[1])\n",
    "print(f'f01_interpolated: {f01_interpolated}')"
   ]
  },
  {
   "cell_type": "code",
   "execution_count": 236,
   "metadata": {},
   "outputs": [
    {
     "name": "stdout",
     "output_type": "stream",
     "text": [
      "f01_approximated: [[3.42484694]]\n"
     ]
    }
   ],
   "source": [
    "# ----approximating f01----\n",
    "secondary_cut_center = [1, 1 ,primary_cut_center[2]] # or different cutcenter altoghether? TESTED: Z has to be the same as primary cut_center\n",
    "secondary_x_1d = create_1d_data(x_range=(-8, 8, 1), cut_center=secondary_cut_center)\n",
    "secondary_y_1d = f(secondary_x_1d)\n",
    "secondary_f_1d = create_interp_1d_funcs(secondary_x_1d, secondary_y_1d, secondary_cut_center)\n",
    "secondary_f0 = f(np.array([secondary_cut_center]))\n",
    "\n",
    "f01_approximated = secondary_f0 + (secondary_f_1d[0](test_datum[0]) - secondary_f0) + (secondary_f_1d[1](test_datum[1]) - secondary_f0) \n",
    "print(f'f01_approximated: {f01_approximated}')"
   ]
  },
  {
   "cell_type": "markdown",
   "metadata": {},
   "source": [
    "Surprizingly changing the **x and y** coordinate of the **secondary_cut_center** does **NOT** change the **f01_approximated**. This is the same as saying:\n",
    "\n",
    "$$F_{01}(x, y, \\hat{z}) = F(\\hat{x}, \\hat{y}, \\hat{z}) + [F(x, \\hat{y}, \\hat{z}) - F(\\hat{x}, \\hat{y}, \\hat{z})] +  [F(\\hat{x}, y, \\hat{z}) - F(\\hat{x}, \\hat{y}, \\hat{z})]$$ \n",
    "is the same as:\n",
    "$$F_{01}(x, y, \\hat{z}) = F(\\bar{x}, \\bar{y}, \\hat{z}) + [F(x, \\bar{y}, \\hat{z}) - F(\\bar{x}, \\bar{y}, \\hat{z})] +  [F(\\bar{x}, y, \\hat{z}) - F(\\bar{x}, \\bar{y}, \\hat{z})]$$\n",
    "\n",
    "where primary cut center: $$(\\hat{x}, \\hat{y}, \\hat{z})$$ \n",
    "and secondary cut center: $$(\\bar{x}, \\bar{y}, \\hat{z})$$\n",
    "\n",
    "**Turns out this is only the case if the x, and y variables are decouples (are linear) in the F function**"
   ]
  },
  {
   "cell_type": "markdown",
   "metadata": {},
   "source": [
    "# Automation\n",
    "Now we try to automate the approximation part"
   ]
  },
  {
   "cell_type": "markdown",
   "metadata": {},
   "source": [
    "The most important task seems to be the orgonization of the data that is used to create the 1D interpolation functions.\n",
    "I am going to think of this task as follows:\n",
    "1. There are two cut centers CC1 and CC2\n",
    "2. Each CC has n dimentions\n",
    "3. We need data that lies on each of the axis of the two cut centers (imagine each cut center as origin point of a coordinate system)\n",
    "4. Hence we need 2*n set of points\n",
    "5. Then for the original 1D interpolation functions such as (e.g. n=3, CC1=$(\\hat{x},\\hat{y},\\hat{z})$ ) $f(x,\\hat{y},\\hat{z})$ we need a set of three dimensional points with their first dimension vary around $\\hat{x}$, the second dimension is set to $\\hat{y}$ and their third dimension is set to $\\hat{z}$\n",
    "6. And hence for an approximation 1D interpolation such as (e.g. n=3, CC1=$(\\hat{x},\\hat{y},\\hat{z})$ and CC2=$(\\bar{x},\\bar{y},\\bar{z})$ ) $f(x,\\bar{y},\\hat{z})$ we need a set of three dimensional data points with their first dimension vary around $\\bar{x}$, the second dimension fixed at $\\bar{y}$ and their third dimension set to $\\hat{z}$\n",
    "    - I was just now wondering if in this case the first dimention should vary around $\\hat{x}$ or $\\bar{x}$, I believe that should not matter, in fact there might be a overlap if the range is large enough and $\\hat{x}$ and $\\bar{x}$ are close to each other. Perhaps using the one that is closer to the test data ( but we should not be thinking about test points at the training time (otherwise we will overfit) so discard this thought).\n",
    "    \n",
    "**Note:**\n",
    "We have so far thought of the points without their label or value (we have only been talking about how to construct (x,y,z) by mix and matching different dimentions, but how about F(x,y,z)? \n",
    "So in practice we would need $k*(n + 2*\\binom{n}{2})$  (x,y,z) and F(x,y,z) for training (k is the number of data points in each of n dimensions per CC) and each 1D interpolation function only uses one set of k points. \n",
    "\n",
    "So how should we do this? \n",
    "- should we create all data-value pairs before hand (which is similar to real world)\n",
    "- or should we take in the (x,y,z) points and calculate their values on demand by passing the F (which is more simulation, but easier)\n",
    "\n",
    "It seems more robust to create the training data beforehand (this way we can also compare it with other standard ML algorithms). So then the question becomes how do we orgonize them in a way that we would be able to access them for training each 1D interpolation functions? basically we need $n + 2*\\binom{n}{2}$ bins of coordinate-value pairs which can be accessed by n variable keys e.g: I need all point-values for a 1D interpolation function that is related to $(\\bar{x}free,\\bar{y}fixed,\\hat{z}fixed)$\n",
    "\n",
    "How can I orgonize this?"
   ]
  },
  {
   "cell_type": "code",
   "execution_count": null,
   "metadata": {},
   "outputs": [],
   "source": []
  }
 ],
 "metadata": {
  "kernelspec": {
   "display_name": "Python 3",
   "language": "python",
   "name": "python3"
  },
  "language_info": {
   "codemirror_mode": {
    "name": "ipython",
    "version": 3
   },
   "file_extension": ".py",
   "mimetype": "text/x-python",
   "name": "python",
   "nbconvert_exporter": "python",
   "pygments_lexer": "ipython3",
   "version": "3.6.8"
  }
 },
 "nbformat": 4,
 "nbformat_minor": 2
}
